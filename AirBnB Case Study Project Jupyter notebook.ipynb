{
 "cells": [
  {
   "cell_type": "markdown",
   "metadata": {},
   "source": [
    "# AirBnB NY Locations Data Case Study\n",
    "\n",
    "In this final project, you task will be to take the data provided and find evidance to answer the following questions.\n",
    "\n",
    "1. Which hosts are the busiest and why?\n",
    "2. How many neighborhood groups are available and which shows up the most?\n",
    "3. Are private rooms the most popular in manhattan?\n",
    "4. Which hosts are the busiest and based on their reviews?\n",
    "5. Which neighorhood group has the highest average price?\n",
    "6. Which neighborhood group has the highest total price?\n",
    "7. Which top 5 hosts have the highest total price?\n",
    "8. Who currently has no (zero) availability with a review count of 100 or more?\n",
    "9. What host has the highest total of prices and where are they located?\n",
    "10. When did Danielle from Queens last receive a review?\n",
    "\n",
    "You will be given **4 hours** to complete this assignment. \n",
    "**Be Advised** I will go dark for this intire assignment time period. That said, any questions that you would like to ask about the data, or the project **MUST** be asked before the time starts. Once the time has started, I can no longer give information.\n",
    "\n",
    "This is to similate what you will face when you are out in the wild. \n",
    "\n",
    "Happy Coding!"
   ]
  },
  {
   "cell_type": "code",
   "execution_count": 4,
   "metadata": {},
   "outputs": [],
   "source": [
    "import numpy as np\n",
    "import pandas as pd\n",
    "#import matplotlib.pyplot as plt"
   ]
  },
  {
   "cell_type": "code",
   "execution_count": 5,
   "metadata": {},
   "outputs": [
    {
     "data": {
      "text/html": [
       "<div>\n",
       "<style scoped>\n",
       "    .dataframe tbody tr th:only-of-type {\n",
       "        vertical-align: middle;\n",
       "    }\n",
       "\n",
       "    .dataframe tbody tr th {\n",
       "        vertical-align: top;\n",
       "    }\n",
       "\n",
       "    .dataframe thead th {\n",
       "        text-align: right;\n",
       "    }\n",
       "</style>\n",
       "<table border=\"1\" class=\"dataframe\">\n",
       "  <thead>\n",
       "    <tr style=\"text-align: right;\">\n",
       "      <th></th>\n",
       "      <th>id</th>\n",
       "      <th>name</th>\n",
       "      <th>host_id</th>\n",
       "      <th>host_name</th>\n",
       "      <th>neighbourhood_group</th>\n",
       "      <th>neighbourhood</th>\n",
       "      <th>latitude</th>\n",
       "      <th>longitude</th>\n",
       "      <th>room_type</th>\n",
       "      <th>price</th>\n",
       "      <th>minimum_nights</th>\n",
       "      <th>number_of_reviews</th>\n",
       "      <th>last_review</th>\n",
       "      <th>reviews_per_month</th>\n",
       "      <th>calculated_host_listings_count</th>\n",
       "      <th>availability_365</th>\n",
       "    </tr>\n",
       "  </thead>\n",
       "  <tbody>\n",
       "    <tr>\n",
       "      <th>0</th>\n",
       "      <td>2539</td>\n",
       "      <td>Clean &amp; quiet apt home by the park</td>\n",
       "      <td>2787</td>\n",
       "      <td>John</td>\n",
       "      <td>Brooklyn</td>\n",
       "      <td>Kensington</td>\n",
       "      <td>40.64749</td>\n",
       "      <td>-73.97237</td>\n",
       "      <td>Private room</td>\n",
       "      <td>149</td>\n",
       "      <td>1</td>\n",
       "      <td>9</td>\n",
       "      <td>2018-10-19</td>\n",
       "      <td>0.21</td>\n",
       "      <td>6</td>\n",
       "      <td>365</td>\n",
       "    </tr>\n",
       "    <tr>\n",
       "      <th>1</th>\n",
       "      <td>2595</td>\n",
       "      <td>Skylit Midtown Castle</td>\n",
       "      <td>2845</td>\n",
       "      <td>Jennifer</td>\n",
       "      <td>Manhattan</td>\n",
       "      <td>Midtown</td>\n",
       "      <td>40.75362</td>\n",
       "      <td>-73.98377</td>\n",
       "      <td>Entire home/apt</td>\n",
       "      <td>225</td>\n",
       "      <td>1</td>\n",
       "      <td>45</td>\n",
       "      <td>2019-05-21</td>\n",
       "      <td>0.38</td>\n",
       "      <td>2</td>\n",
       "      <td>355</td>\n",
       "    </tr>\n",
       "    <tr>\n",
       "      <th>2</th>\n",
       "      <td>3647</td>\n",
       "      <td>THE VILLAGE OF HARLEM....NEW YORK !</td>\n",
       "      <td>4632</td>\n",
       "      <td>Elisabeth</td>\n",
       "      <td>Manhattan</td>\n",
       "      <td>Harlem</td>\n",
       "      <td>40.80902</td>\n",
       "      <td>-73.94190</td>\n",
       "      <td>Private room</td>\n",
       "      <td>150</td>\n",
       "      <td>3</td>\n",
       "      <td>0</td>\n",
       "      <td>NaN</td>\n",
       "      <td>NaN</td>\n",
       "      <td>1</td>\n",
       "      <td>365</td>\n",
       "    </tr>\n",
       "    <tr>\n",
       "      <th>3</th>\n",
       "      <td>3831</td>\n",
       "      <td>Cozy Entire Floor of Brownstone</td>\n",
       "      <td>4869</td>\n",
       "      <td>LisaRoxanne</td>\n",
       "      <td>Brooklyn</td>\n",
       "      <td>Clinton Hill</td>\n",
       "      <td>40.68514</td>\n",
       "      <td>-73.95976</td>\n",
       "      <td>Entire home/apt</td>\n",
       "      <td>89</td>\n",
       "      <td>1</td>\n",
       "      <td>270</td>\n",
       "      <td>2019-07-05</td>\n",
       "      <td>4.64</td>\n",
       "      <td>1</td>\n",
       "      <td>194</td>\n",
       "    </tr>\n",
       "    <tr>\n",
       "      <th>4</th>\n",
       "      <td>5022</td>\n",
       "      <td>Entire Apt: Spacious Studio/Loft by central park</td>\n",
       "      <td>7192</td>\n",
       "      <td>Laura</td>\n",
       "      <td>Manhattan</td>\n",
       "      <td>East Harlem</td>\n",
       "      <td>40.79851</td>\n",
       "      <td>-73.94399</td>\n",
       "      <td>Entire home/apt</td>\n",
       "      <td>80</td>\n",
       "      <td>10</td>\n",
       "      <td>9</td>\n",
       "      <td>2018-11-19</td>\n",
       "      <td>0.10</td>\n",
       "      <td>1</td>\n",
       "      <td>0</td>\n",
       "    </tr>\n",
       "  </tbody>\n",
       "</table>\n",
       "</div>"
      ],
      "text/plain": [
       "     id                                              name  host_id  \\\n",
       "0  2539                Clean & quiet apt home by the park     2787   \n",
       "1  2595                             Skylit Midtown Castle     2845   \n",
       "2  3647               THE VILLAGE OF HARLEM....NEW YORK !     4632   \n",
       "3  3831                   Cozy Entire Floor of Brownstone     4869   \n",
       "4  5022  Entire Apt: Spacious Studio/Loft by central park     7192   \n",
       "\n",
       "     host_name neighbourhood_group neighbourhood  latitude  longitude  \\\n",
       "0         John            Brooklyn    Kensington  40.64749  -73.97237   \n",
       "1     Jennifer           Manhattan       Midtown  40.75362  -73.98377   \n",
       "2    Elisabeth           Manhattan        Harlem  40.80902  -73.94190   \n",
       "3  LisaRoxanne            Brooklyn  Clinton Hill  40.68514  -73.95976   \n",
       "4        Laura           Manhattan   East Harlem  40.79851  -73.94399   \n",
       "\n",
       "         room_type  price  minimum_nights  number_of_reviews last_review  \\\n",
       "0     Private room    149               1                  9  2018-10-19   \n",
       "1  Entire home/apt    225               1                 45  2019-05-21   \n",
       "2     Private room    150               3                  0         NaN   \n",
       "3  Entire home/apt     89               1                270  2019-07-05   \n",
       "4  Entire home/apt     80              10                  9  2018-11-19   \n",
       "\n",
       "   reviews_per_month  calculated_host_listings_count  availability_365  \n",
       "0               0.21                               6               365  \n",
       "1               0.38                               2               355  \n",
       "2                NaN                               1               365  \n",
       "3               4.64                               1               194  \n",
       "4               0.10                               1                 0  "
      ]
     },
     "execution_count": 5,
     "metadata": {},
     "output_type": "execute_result"
    }
   ],
   "source": [
    "air_bnb = pd.read_csv('AB_NYC_2019.csv')\n",
    "air_bnb.head()"
   ]
  },
  {
   "cell_type": "code",
   "execution_count": 111,
   "metadata": {},
   "outputs": [
    {
     "name": "stdout",
     "output_type": "stream",
     "text": [
      "5 neighbourhood group are availbale and Manhattan shows up the most.\n"
     ]
    }
   ],
   "source": [
    "# How many neighborhood groups are available and which shows up the most?\n",
    "\n",
    "#1. count the number of neighborhood groups ***nunique():returns the number of unique values for each column\n",
    "count_neighbourhood_group = air_bnb['neighbourhood_group'].nunique()\n",
    "\n",
    "#2. find the total showing up number of each group  ***idxmax(): returns a Series with the index of the maximum value for each column\n",
    "popular_neighbourhood_group = air_bnb.groupby('neighbourhood_group')['calculated_host_listings_count'].sum().sort_values(ascending=False)\n",
    "most_popular_neighbourhood_group = popular_neighbourhood_group.idxmax()()\n",
    "\n",
    "print(f'{count_neighbourhood_group} neighbourhood group are availbale and {most_popular_neighbourhood_group} shows up the most.')"
   ]
  },
  {
   "cell_type": "code",
   "execution_count": 109,
   "metadata": {},
   "outputs": [
    {
     "name": "stdout",
     "output_type": "stream",
     "text": [
      "Entire home/apt is the most popular room typ in Manhattan, not private room.\n"
     ]
    }
   ],
   "source": [
    "# Are private rooms the most popular in manhattan?\n",
    "\n",
    "#1. find out the usage of each room type in manhattan\n",
    "count_mahhantan_room_type = air_bnb[air_bnb['neighbourhood_group'] == 'Manhattan'].groupby('room_type').size().reset_index(name='room_type_count')\n",
    "##count_mahhantan_room_type\n",
    "\n",
    "#2. find the most popular room type by using the table just created\n",
    "most_popular_room_type = count_mahhantan_room_type.loc[0]['room_type']\n",
    "\n",
    "print(f'{most_popular_room_type} is the most popular room typ in Manhattan, not private room.')"
   ]
  },
  {
   "cell_type": "code",
   "execution_count": 122,
   "metadata": {},
   "outputs": [
    {
     "name": "stdout",
     "output_type": "stream",
     "text": [
      "Michael is the the busiest host with 11081 reviews.\n"
     ]
    }
   ],
   "source": [
    "# Which hosts are the busiest and based on their reviews?\n",
    "\n",
    "#1. find the total reviews of each hots\n",
    "count_total_num_of_reviews = air_bnb.groupby('host_name')['number_of_reviews'].sum().sort_values(ascending=False).reset_index(name='total_reviews')\n",
    "\n",
    "#2. find the name of the busiest host\n",
    "busiest_host_name = count_total_num_of_reviews.loc[0]['host_name']\n",
    "busiest_host_total_reviews = count_total_num_of_reviews.loc[0]['total_reviews']\n",
    "\n",
    "print(f'{busiest_host_name} is the the busiest host with {busiest_host_total_reviews} reviews.')"
   ]
  },
  {
   "cell_type": "code",
   "execution_count": 221,
   "metadata": {},
   "outputs": [
    {
     "name": "stdout",
     "output_type": "stream",
     "text": [
      "Manhattan has the highest average price.\n"
     ]
    }
   ],
   "source": [
    "#Which neighorhood group has the highest average price?\n",
    "\n",
    "#1. group by neighbourhood_group and find the average price\n",
    "neighbourhood_group_average_price = air_bnb.groupby('neighbourhood_group')['price'].mean().sort_values(ascending=False).reset_index(name='average_price')\n",
    "\n",
    "#2. extraction: find the highest one\n",
    "highest_neighorhood_group_average_price = neighbourhood_group_average_price.loc[0]['neighbourhood_group']\n",
    "\n",
    "print(f'{highest_neighorhood_group_average_price} has the highest average price.')"
   ]
  },
  {
   "cell_type": "code",
   "execution_count": 42,
   "metadata": {},
   "outputs": [
    {
     "name": "stdout",
     "output_type": "stream",
     "text": [
      "Manhattan has the highest total price.\n"
     ]
    }
   ],
   "source": [
    "# Which neighbor hood group has the highest total price?\n",
    "\n",
    "#1 group by neighbourhood_group and find the total price\n",
    "neighbourhood_group_total_price = air_bnb.groupby('neighbourhood_group')['price'].sum().sort_values(ascending=False).reset_index(name='total_price')\n",
    "\n",
    "#2. extraction: find the highest one\n",
    "highest_neighbourhood_group = neighbourhood_group_total_price.loc[0]['neighbourhood_group']\n",
    "\n",
    "print(f'{highest_neighbourhood_group} has the highest total price.')"
   ]
  },
  {
   "cell_type": "code",
   "execution_count": 23,
   "metadata": {},
   "outputs": [
    {
     "name": "stdout",
     "output_type": "stream",
     "text": [
      "Below are the top 5 hosts have the highest total price:\n",
      "Sonder (NYC)\n",
      "Blueground\n",
      "Michael\n",
      "David\n",
      "Alex\n"
     ]
    }
   ],
   "source": [
    "#Which top 5 hosts have the highest total price?\n",
    "\n",
    "#1 group by host_name and find the total price\n",
    "hosts_total_price = air_bnb.groupby('host_name')['price'].sum().sort_values(ascending=False).reset_index(name='total_price')\n",
    "\n",
    "\n",
    "#2. extraction: find the top 5 hosts\n",
    "top_5_hosts_total_price = hosts_total_price.loc[0:4]['host_name']\n",
    "\n",
    "print(\"Below are the top 5 hosts have the highest total price:\")\n",
    "for name in top_5_hosts_total_price:\n",
    "    print(name)"
   ]
  },
  {
   "cell_type": "code",
   "execution_count": 89,
   "metadata": {},
   "outputs": [
    {
     "name": "stdout",
     "output_type": "stream",
     "text": [
      "Below are the hosts who have no availability with more than 100 reviews:\n",
      "Wanda\n",
      "Gurpreet  Singh\n",
      "Deloris\n",
      "Veronica\n",
      "James\n",
      "Kyle\n",
      "Dragan\n",
      "Kc\n",
      "Karen\n",
      "Brian\n",
      "Neil & Katie\n",
      "S\n",
      "Sofia\n",
      "Ravanna\n",
      "Doug\n",
      "Jsun\n",
      "Carlina\n",
      "Ori\n",
      "Dante\n",
      "Michelle\n",
      "Long\n",
      "Hayes\n",
      "Véronique\n",
      "Michael\n",
      "Sol\n",
      "Kent\n",
      "Ehren\n",
      "Lasata\n",
      "Evelyn\n",
      "Emily And Joel\n",
      "Lane\n",
      "Jimmy\n",
      "Jillian\n",
      "Misty\n",
      "Benjamin\n",
      "Summer\n",
      "Lorena\n",
      "Andreas\n",
      "Sam\n",
      "Sasha\n",
      "Giovanni\n",
      "Christiana\n",
      "Gabriela\n",
      "Jeremy\n",
      "AJ And Freddy\n",
      "Sarah\n",
      "Stacey\n",
      "Brendan\n",
      "Elle\n",
      "Louise\n",
      "Ame\n",
      "Antonia\n",
      "正川\n",
      "Graham\n",
      "Jo & Savannah\n",
      "Evan\n",
      "Nick\n",
      "Gillian\n",
      "Cedrick\n",
      "William\n",
      "Lissette\n",
      "Maba\n",
      "Katarina\n",
      "Bernard\n",
      "Yuval\n",
      "Molly\n",
      "Andrew\n",
      "Adrienne\n",
      "Micah\n",
      "Anthony\n",
      "Ingrid\n",
      "Deborah\n",
      "J\n",
      "Alex\n",
      "Edward\n",
      "Stephany\n",
      "Taylor & Tee\n",
      "Liz And Melissa\n",
      "Maeve\n",
      "Karece\n",
      "Nicole\n",
      "Liz\n",
      "Margarita\n",
      "Fred\n",
      "Elliott\n",
      "Ben\n",
      "Trevor\n",
      "Alexandra\n",
      "Kaka\n",
      "Aurea\n",
      "Andy & Friends\n",
      "Krysta\n",
      "Janet\n",
      "Erin\n",
      "Caroline\n",
      "Natalie\n",
      "MaryEllen\n",
      "Mohamed\n",
      "Steven\n",
      "Catrina\n",
      "Ron\n",
      "Terri\n",
      "Jon\n",
      "Chao\n",
      "Ivy\n",
      "Airamis\n",
      "Coral\n",
      "Emily\n",
      "Chelsea\n",
      "George & Diana\n",
      "Mariluz\n",
      "Angelo\n",
      "Qiyao\n",
      "Marcelo\n",
      "Jeanine\n",
      "nan\n",
      "Jenifer\n",
      "Alvaro\n",
      "Lou\n",
      "Devin\n",
      "DeLex\n",
      "Pj\n",
      "Greg\n",
      "Lydia\n",
      "Felipe\n",
      "Jie\n",
      "Megan E\n",
      "Ash\n",
      "Richard\n",
      "Masha\n",
      "Deanna\n",
      "Chadanut\n",
      "Kathleen\n",
      "Danielle\n",
      "Albert\n",
      "Anna\n",
      "Karin\n",
      "Jake\n",
      "Raymond\n",
      "Marisha\n",
      "Abraham\n",
      "Braydon\n"
     ]
    }
   ],
   "source": [
    "# Who currently has no (zero) availability with a review count of 100 or more?\n",
    "\n",
    "#1. filter host w. over over 99 reviews\n",
    "review_over_hundred = air_bnb[air_bnb['number_of_reviews'] > 99].sort_values(by='number_of_reviews',ascending=False)\n",
    "\n",
    "#2. find hosts with no availability (plus have over 99 reviews)\n",
    "not_availability = review_over_hundred[review_over_hundred['availability_365'] == 0].reset_index(drop=True)\n",
    "\n",
    "#3. extraction: select relevant columns and drop duplicates\n",
    "##host_not_availability_with_over_hundred_reviews = not_availability[['host_name', 'availability_365', 'number_of_reviews']]\n",
    "busy_hosts_drop_dup = not_availability.drop_duplicates(subset='host_name').reset_index(drop=True)\n",
    "\n",
    "print(\"Below are the hosts who have no availability with more than 100 reviews:\")\n",
    "for name in busy_hosts_drop_dup['host_name']:\n",
    "    print(name)"
   ]
  },
  {
   "cell_type": "code",
   "execution_count": 86,
   "metadata": {},
   "outputs": [
    {
     "name": "stdout",
     "output_type": "stream",
     "text": [
      "Sonder (NYC) has the highest total of prices and they are located in Financial District, Manhattan.\n"
     ]
    }
   ],
   "source": [
    "# What host has the highest total of prices and where are they located?\n",
    "\n",
    "#1. find out who has the highest total of prices\n",
    "info_with_total_price = air_bnb.groupby(['host_name', 'neighbourhood_group', 'neighbourhood'])['price'].sum().sort_values(ascending=False).reset_index()\n",
    "\n",
    "#2. use the name to find out where are the properties\n",
    "name = info_with_total_price.loc[0]['host_name']\n",
    "neighbourhood_group = info_with_total_price.loc[0]['neighbourhood_group']\n",
    "neighbourhood = info_with_total_price.loc[0]['neighbourhood']\n",
    "    \n",
    "print(f'{name} has the highest total of prices and they are located in {neighbourhood}, {neighbourhood_group}.')"
   ]
  },
  {
   "cell_type": "code",
   "execution_count": 363,
   "metadata": {},
   "outputs": [
    {
     "name": "stdout",
     "output_type": "stream",
     "text": [
      "Danielle from Queens last receive a review on 2019-07-08.\n"
     ]
    }
   ],
   "source": [
    "# When did Danielle from Queens last receive a review?\n",
    "\n",
    "#1. find the host called Danielle\n",
    "find_Danielle = air_bnb[air_bnb['host_name'] == 'Danielle']\n",
    "\n",
    "#2. find Danielle from Queens\n",
    "find_Danielle_from_Queens = find_Danielle[find_Danielle['neighbourhood_group'] == 'Queens'].sort_values(by='last_review', ascending=False)\n",
    "\n",
    "#3. find when Danielle from Queens receive the last review\n",
    "find_Danielle_from_Queens_filter = find_Danielle_from_Queens[['host_name','neighbourhood_group','last_review']].dropna().reset_index().head(1)\n",
    "\n",
    "for index, row in find_Danielle_from_Queens_filter.iterrows():\n",
    "    date = row['last_review']\n",
    "    print(f'Danielle from Queens last receive a review on {date}.')"
   ]
  },
  {
   "cell_type": "markdown",
   "metadata": {},
   "source": [
    "## Further Questions\n",
    "\n",
    "1. Which host has the most listings?"
   ]
  },
  {
   "cell_type": "code",
   "execution_count": 54,
   "metadata": {},
   "outputs": [
    {
     "name": "stdout",
     "output_type": "stream",
     "text": [
      "Sonder (NYC) currently holds the highest number of listings.\n"
     ]
    }
   ],
   "source": [
    "#1. filtration\n",
    "most_listings = air_bnb.groupby('host_name')['calculated_host_listings_count'].sum().sort_values(ascending=False).reset_index()\n",
    "\n",
    "#2. extraction\n",
    "name = most_listings.loc[0]['host_name']\n",
    "count_listings = most_listings.loc[0]['calculated_host_listings_count']\n",
    "\n",
    "#print(f\"{name} currently holds the highest number of listings, totaling {count_listings} across all properties.\")\n",
    "print(f\"{name} currently holds the highest number of listings.\")"
   ]
  },
  {
   "cell_type": "markdown",
   "metadata": {},
   "source": [
    "2. How many listings have completely open availability?"
   ]
  },
  {
   "cell_type": "code",
   "execution_count": 52,
   "metadata": {},
   "outputs": [
    {
     "name": "stdout",
     "output_type": "stream",
     "text": [
      "Total listings with completely open availability: 1295\n"
     ]
    }
   ],
   "source": [
    "#1. filter the DataFrame to include only listings with availability equal to 365\n",
    "available = air_bnb[air_bnb['availability_365'] == 365]\n",
    "\n",
    "#2. count the number of listings with completely open availability\n",
    "total_listings_open_availability = available.shape[0]\n",
    "\n",
    "print(\"Total listings with completely open availability:\", total_listings_open_availability)"
   ]
  },
  {
   "cell_type": "markdown",
   "metadata": {},
   "source": [
    "3. What room_types have the highest review numbers?"
   ]
  },
  {
   "cell_type": "code",
   "execution_count": 57,
   "metadata": {},
   "outputs": [
    {
     "name": "stdout",
     "output_type": "stream",
     "text": [
      "Entire home/apt category boasts the highest number of reviews.\n"
     ]
    }
   ],
   "source": [
    "#1. filtration\n",
    "room_types_total_reviews = air_bnb.groupby('room_type')['number_of_reviews'].sum().sort_values(ascending=False).reset_index()\n",
    "\n",
    "#2. extraction\n",
    "highest_room_type = room_types_total_reviews.loc[0]['room_type']\n",
    "highest_room_type__reviews = room_types_total_reviews.loc[0]['number_of_reviews']\n",
    "\n",
    "print(f'{highest_room_type} category boasts the highest number of reviews.')"
   ]
  },
  {
   "cell_type": "markdown",
   "metadata": {},
   "source": [
    "# Final Conclusion\n",
    "\n",
    "In this cell, write your final conclusion for each of the questions asked.\n",
    "\n",
    "Also, if you uncovered some more details that were not asked above, please discribe them here.\n",
    "\n",
    "-- Add your conclusion --"
   ]
  },
  {
   "cell_type": "code",
   "execution_count": 123,
   "metadata": {},
   "outputs": [
    {
     "name": "stdout",
     "output_type": "stream",
     "text": [
      "The busiest host is Michael with 417 bookings.\n",
      "Michael receicived the most 11081 reviews.\n"
     ]
    }
   ],
   "source": [
    "#1. find out who is the busiest host\n",
    "busiest_host = air_bnb.groupby('host_name').size().idxmax()\n",
    "num_bookings = air_bnb.groupby('host_name').size().max()\n",
    "print(f'The busiest host is {busiest_host} with {num_bookings} bookings.')\n",
    "\n",
    "#2. analyze why he is the busiest host\n",
    "\n",
    "#3. \n",
    "#reviews\n",
    "print(f'{busiest_host_name} receicived the most {busiest_host_total_reviews} reviews.')"
   ]
  },
  {
   "cell_type": "code",
   "execution_count": null,
   "metadata": {},
   "outputs": [],
   "source": []
  }
 ],
 "metadata": {
  "kernelspec": {
   "display_name": "Python 3 (ipykernel)",
   "language": "python",
   "name": "python3"
  },
  "language_info": {
   "codemirror_mode": {
    "name": "ipython",
    "version": 3
   },
   "file_extension": ".py",
   "mimetype": "text/x-python",
   "name": "python",
   "nbconvert_exporter": "python",
   "pygments_lexer": "ipython3",
   "version": "3.11.5"
  }
 },
 "nbformat": 4,
 "nbformat_minor": 2
}
